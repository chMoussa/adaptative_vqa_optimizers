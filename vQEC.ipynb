{
 "cells": [
  {
   "cell_type": "markdown",
   "id": "5ab00b00",
   "metadata": {},
   "source": [
    "# Variational Quantum Error Correction with QVECTOR\n",
    "\n",
    "In this notebook, we will optimize a Quantum Error Correction (QEC) problem. \n",
    "Here, our set of states $\\{\\psi_i\\}_{i=1}^N$ are sampled from the Haar distribution (or an approximation thereof) and we optimize the cost \n",
    "$$L(\\vec{p}, \\vec{q}) = \\sum_{\\vert \\psi_i \\rangle \\in \\mathcal{S}} \\frac{1}{\\vert\\mathcal{S}\\vert} E_{i}(\\vert \\psi_i \\rangle, \\vec{p}, \\vec{q})$$\n",
    "where $\\vec{p}, \\vec{q}$ are parameters of a variational circuit, and $E_{i}(\\vert \\psi_i \\rangle, \\vec{p}, \\vec{q}) = \\langle \\psi_i \\vert \\mathcal{V}(\\vec{p})^\\dagger \\mathcal{W}(\\vec{q}) \\mathcal{V}(\\vec{p}) \\vert \\psi_i \\rangle$, with $\\mathcal{V}$ the encoding operator and $\\mathcal{W}$ the decoding operator."
   ]
  },
  {
   "cell_type": "code",
   "execution_count": null,
   "id": "646b11e9-44fe-4eb9-a1a1-6243a854b3de",
   "metadata": {},
   "outputs": [],
   "source": [
    "import pennylane as qml\n",
    "from pennylane import numpy as np\n",
    "from refoqus import Refoqus\n",
    "\n",
    "# Initialise the number of qubits that interest us.\n",
    "k, n, r = 1, 5, 2\n",
    "nbqbits = n + r\n",
    "\n",
    "# Build the dataset here with qml.SimplifiedTwoDesign\n",
    "# See https://docs.pennylane.ai/en/stable/code/api/pennylane.SimplifiedTwoDesign.html\n",
    "dataset = None # TODO"
   ]
  },
  {
   "cell_type": "code",
   "execution_count": null,
   "id": "9a855d60",
   "metadata": {},
   "outputs": [],
   "source": [
    "# Get the Hamiltonian of interest\n",
    "coefficients_cost = [- 1.0 / k for _ in range(k)]\n",
    "projector = np.zeros((2, 2))\n",
    "projector[0, 0] = 1\n",
    "vqec_hamiltonian_term = [qml.Hermitian(projector,wires=i) for i in range(k)]\n",
    "hermitian_of_interest = qml.Hamiltonian(coefficients_cost, vqec_hamiltonian_term)"
   ]
  },
  {
   "cell_type": "markdown",
   "id": "2ebfe464",
   "metadata": {},
   "source": [
    "Next, we define functions to evaluate the true cost during optimization."
   ]
  },
  {
   "cell_type": "code",
   "execution_count": null,
   "id": "2c0864ea",
   "metadata": {},
   "outputs": [],
   "source": [
    "analytic_dev = qml.device(\"default.qubit\", wires=nbqbits, shots=None)\n",
    "\n",
    "@qml.qnode(analytic_dev)\n",
    "def cost_analytic_one_circuit(weights, index_datapoint):\n",
    "    # We might have to change the weights shape here to differentiate between p and q\n",
    "    \n",
    "    # Apply S         to range(k)     to prepare an approximate 2-design state\n",
    "    # Apply V(p)      to range(n)     to encode the state\n",
    "    # Apply W(q)      to range(n + r) to correct potential errors\n",
    "    # Apply V^{-1}(p) to range(n)     to decode the state\n",
    "    # Apply S^{-1}    to range(k)     to un-prepare.\n",
    "    \n",
    "    # Measure the probability to get the all-zero |0...0> output.\n",
    "    return qml.expval(hamiltonian_of_interest)\n",
    "\n",
    "def cost_analytic_alldataset(weights):\n",
    "    \n",
    "    cost = 0.0\n",
    "    for m in range(nbdatapoints):\n",
    "        cost += cost_analytic_one_circuit(weights, m)\n",
    "    cost = 1.0 + cost / nbdatapoints\n",
    "    return cost"
   ]
  },
  {
   "cell_type": "markdown",
   "id": "18c1e86f",
   "metadata": {},
   "source": [
    "Now, the ansatz is defined as with StronglyEntanglingLayers. We also sample initial values and the corresponding cost."
   ]
  },
  {
   "cell_type": "code",
   "execution_count": null,
   "id": "aa3358d5",
   "metadata": {},
   "outputs": [],
   "source": [
    "from pennylane.templates.layers import StronglyEntanglingLayers\n",
    "\n",
    "# hyperparameter of ansatz\n",
    "num_layers = 3\n",
    "\n",
    "param_shape = StronglyEntanglingLayers.shape(n_layers=num_layers, n_wires=nbqbits)\n",
    "init_params = np.random.uniform(low=0.0, high=2*np.pi, size=param_shape, requires_grad=True)\n",
    "cost_analytic_alldataset(init_params)"
   ]
  },
  {
   "cell_type": "markdown",
   "id": "ba1d361f",
   "metadata": {},
   "source": [
    "Our adaptative optimizer will be Refoqus where we provide the necessary arguments as follows and we perform niter iterations."
   ]
  },
  {
   "cell_type": "code",
   "execution_count": null,
   "id": "8f0f0d37",
   "metadata": {},
   "outputs": [],
   "source": [
    "opt = Refoqus(moldataset, vqse_hamiltonian_term, coefficients_cost, param_shape, min_shots=2)\n",
    "params = init_params\n",
    "niter = 20\n",
    "\n",
    "cost_refoqus = [cost_analytic_alldataset(params)]\n",
    "shots_refoqus = [0]\n",
    "\n",
    "for i in range(niter):\n",
    "    params = opt.step(params)\n",
    "    cost_refoqus.append(cost_analytic_alldataset(params))\n",
    "    shots_refoqus.append(opt.shots_used)\n",
    "    print(f\"Step {i}: cost = {cost_refoqus[-1]}, shots_used = {shots_refoqus[-1]}\")"
   ]
  },
  {
   "cell_type": "code",
   "execution_count": null,
   "id": "ec187f46",
   "metadata": {},
   "outputs": [],
   "source": []
  }
 ],
 "metadata": {
  "kernelspec": {
   "display_name": "Python 3 (ipykernel)",
   "language": "python",
   "name": "python3"
  },
  "language_info": {
   "codemirror_mode": {
    "name": "ipython",
    "version": 3
   },
   "file_extension": ".py",
   "mimetype": "text/x-python",
   "name": "python",
   "nbconvert_exporter": "python",
   "pygments_lexer": "ipython3",
   "version": "3.10.9"
  }
 },
 "nbformat": 4,
 "nbformat_minor": 5
}
