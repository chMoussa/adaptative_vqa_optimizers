{
 "cells": [
  {
   "cell_type": "markdown",
   "id": "5ab00b00",
   "metadata": {},
   "source": [
    "# Variational Quantum Error Correction with QVECTOR\n",
    "\n",
    "In this notebook, we will optimize a Quantum Error Correction (QEC) problem. \n",
    "Here, our set of states $\\{\\psi_i\\}_{i=1}^N$ are sampled from the Haar distribution (or an approximation thereof) and we optimize the cost \n",
    "$$L(\\vec{p}, \\vec{q}) = \\sum_{\\vert \\psi_i \\rangle \\in \\mathcal{S}} \\frac{1}{\\vert\\mathcal{S}\\vert} E_{i}(\\vert \\psi_i \\rangle, \\vec{p}, \\vec{q})$$\n",
    "where $\\vec{p}, \\vec{q}$ are parameters of a variational circuit, and $E_{i}(\\vert \\psi_i \\rangle, \\vec{p}, \\vec{q}) = \\langle \\psi_i \\vert \\mathcal{V}(\\vec{p})^\\dagger \\mathcal{W}(\\vec{q}) \\mathcal{N} \\mathcal{V}(\\vec{p}) \\vert \\psi_i \\rangle$, with $\\mathcal{V}$ the encoding operator, $\\mathcal{N}$ the noise model, and $\\mathcal{W}$ the decoding operator. The noise model here will be a bitflip channel (with probability $0.1$) acting on all qubits."
   ]
  },
  {
   "cell_type": "code",
   "execution_count": 1,
   "id": "646b11e9-44fe-4eb9-a1a1-6243a854b3de",
   "metadata": {},
   "outputs": [],
   "source": [
    "import typing as ty\n",
    "import pennylane as qml\n",
    "from pennylane import numpy as np\n",
    "from refoqus import Refoqus\n",
    "\n",
    "# Initialise the number of qubits that interest us.\n",
    "k, n, r = 1, 3, 1\n",
    "nbqbits = n + r"
   ]
  },
  {
   "cell_type": "code",
   "execution_count": 2,
   "id": "f50d82b8-96cf-43c5-8dba-878ad58489f0",
   "metadata": {
    "tags": []
   },
   "outputs": [],
   "source": [
    "layers = 3\n",
    "\n",
    "def random_angles(*shape: int) -> np.ndarray:\n",
    "    return 2 * np.pi * np.random.rand(*shape)\n",
    "\n",
    "if k == 1:\n",
    "    # Only consider the 6 one qubit stabilizer states:\n",
    "    dataset_size = 6\n",
    "    dataset = [\n",
    "        [qml.Identity(wires=[0])], [qml.PauliX(wires=[0])],  # |0>, |1>\n",
    "        [qml.Hadamard(wires=[0])], [qml.PauliX(wires=[0]), qml.Hadamard(wires=[0])],  # |+>, |->\n",
    "        [qml.Hadamard(wires=[0]), qml.S(wires=[0])], [qml.PauliX(wires=[0]), qml.Hadamard(wires=[0]), qml.S(wires=[0])]  # |+i>, |-i>\n",
    "    ]\n",
    "    \n",
    "elif k > 1:\n",
    "    # Build the dataset here with qml.SimplifiedTwoDesign\n",
    "    # See https://docs.pennylane.ai/en/stable/code/api/pennylane.SimplifiedTwoDesign.html\n",
    "    dataset_size = 200\n",
    "    dataset = [[qml.SimplifiedTwoDesign(initial_layer_weights=random_angles(k), weights=random_angles(layers, k - 1, 2), wires=range(k))] for _ in range(dataset_size)]"
   ]
  },
  {
   "cell_type": "code",
   "execution_count": 3,
   "id": "9a855d60",
   "metadata": {},
   "outputs": [],
   "source": [
    "# Get the Hamiltonian of interest\n",
    "coefficients_cost = [- 1.0 / k for _ in range(k)]\n",
    "projector = np.zeros((2, 2))\n",
    "projector[0, 0] = 1\n",
    "vqec_hamiltonian_term = [qml.Hermitian(projector,wires=i) for i in range(k)]\n",
    "hamiltonian_of_interest = qml.Hamiltonian(coefficients_cost, vqec_hamiltonian_term)"
   ]
  },
  {
   "cell_type": "markdown",
   "id": "2ebfe464",
   "metadata": {},
   "source": [
    "Next, we define functions to evaluate the true cost during optimization."
   ]
  },
  {
   "cell_type": "code",
   "execution_count": 4,
   "id": "2c0864ea",
   "metadata": {},
   "outputs": [],
   "source": [
    "def circuit_construction(\n",
    "    weights: np.ndarray,\n",
    "    data_circuit: ty.List[qml.operation.Operation],\n",
    "    parameterised_circuit = None,\n",
    "):\n",
    "    if parameterised_circuit is None:\n",
    "        parameterised_circuit = qml.StronglyEntanglingLayers\n",
    "        \n",
    "    encoding_shape = parameterised_circuit.shape(layers, n)\n",
    "    decoding_shape = parameterised_circuit.shape(layers, n + r)\n",
    "    encoding_size = np.prod(encoding_shape)\n",
    "    decoding_size = np.prod(decoding_shape)\n",
    "    encoding_weights = weights[:encoding_size].reshape(encoding_shape)\n",
    "    decoding_weights = weights[encoding_size:encoding_size + decoding_size].reshape(decoding_shape)\n",
    "    \n",
    "    # Apply S         to range(k)     to prepare an approximate 2-design state\n",
    "    for op in data_circuit:\n",
    "        qml.apply(op)\n",
    "    \n",
    "    # Apply V(p)      to range(n)     to encode the state\n",
    "    parameterised_circuit(encoding_weights, wires=range(n))\n",
    "    for i in range(n):\n",
    "        qml.BitFlip(0.1, wires=i)\n",
    "    # Apply W(q)      to range(n + r) to correct potential errors\n",
    "    parameterised_circuit(decoding_weights, wires=range(n + r))\n",
    "    # Apply V^{-1}(p) to range(n)     to decode the state\n",
    "    qml.adjoint(parameterised_circuit(encoding_weights, wires=range(n)))\n",
    "    \n",
    "    # Apply S^{-1}    to range(k)     to un-prepare.\n",
    "    for op in reversed(data_circuit):\n",
    "        qml.apply(op.inv())\n",
    "    \n",
    "def cost_function(\n",
    "    weights: np.ndarray,\n",
    "    hamiltonian_terms: qml.operation.Operator,\n",
    "    data_circuit: ty.List[qml.operation.Operation],\n",
    "    parameterised_circuit = None,\n",
    "):\n",
    "    circuit_construction(weights, data_circuit, parameterised_circuit)\n",
    "    return qml.sample(hamiltonian_terms)"
   ]
  },
  {
   "cell_type": "code",
   "execution_count": 5,
   "id": "f3cb65db-cb7d-4334-ac99-ec73d40343f8",
   "metadata": {
    "tags": []
   },
   "outputs": [],
   "source": [
    "analytic_dev = qml.device(\"default.mixed\", wires=nbqbits, shots=None)\n",
    "\n",
    "@qml.qnode(analytic_dev)\n",
    "def cost_analytic_one_circuit(weights, index_datapoint, parameterised_circuit = None):\n",
    "    circuit_construction(weights, dataset[index_datapoint], parameterised_circuit)\n",
    "    return qml.expval(hamiltonian_of_interest)\n",
    "\n",
    "def cost_analytic_alldataset(weights, parameterised_circuit = None):\n",
    "    cost = 0.0\n",
    "    for m in range(dataset_size):\n",
    "        cost += cost_analytic_one_circuit(weights, m, parameterised_circuit)\n",
    "    cost = 1.0 + cost / dataset_size\n",
    "    return cost"
   ]
  },
  {
   "cell_type": "markdown",
   "id": "18c1e86f",
   "metadata": {},
   "source": [
    "Now, the ansatz is defined as with StronglyEntanglingLayers. We also sample initial values and the corresponding cost."
   ]
  },
  {
   "cell_type": "markdown",
   "id": "ba1d361f",
   "metadata": {},
   "source": [
    "Our adaptative optimizer will be Refoqus where we provide the necessary arguments as follows and we perform niter iterations."
   ]
  },
  {
   "cell_type": "code",
   "execution_count": 6,
   "id": "8f0f0d37",
   "metadata": {},
   "outputs": [
    {
     "name": "stderr",
     "output_type": "stream",
     "text": [
      "/home/charles/anaconda3/envs/hackenv/lib/python3.10/site-packages/pennylane/operation.py:1506: UserWarning: In-place inversion with inverse is deprecated. Please use qml.adjoint or qml.pow instead.\n",
      "  warnings.warn(\n"
     ]
    },
    {
     "name": "stdout",
     "output_type": "stream",
     "text": [
      "Step 0: cost = 0.4495655337184422, shots_used = 252\n",
      "Step 1: cost = 0.4465745861188841, shots_used = 590\n",
      "Step 2: cost = 0.49308851215111804, shots_used = 1142\n",
      "Step 3: cost = 0.4612971715359162, shots_used = 1902\n",
      "Step 4: cost = 0.4421812429003372, shots_used = 2906\n",
      "Step 5: cost = 0.4342654615347422, shots_used = 3954\n",
      "Step 6: cost = 0.45427969698165294, shots_used = 5486\n",
      "Step 7: cost = 0.44793503514792377, shots_used = 7876\n",
      "Step 8: cost = 0.42454910098941967, shots_used = 11352\n",
      "Step 9: cost = 0.43304557319586057, shots_used = 18210\n",
      "Step 10: cost = 0.42829795057682596, shots_used = 26184\n",
      "Step 11: cost = 0.4155404368675879, shots_used = 39700\n",
      "Step 12: cost = 0.407405096949191, shots_used = 64894\n",
      "Step 13: cost = 0.40409094257218403, shots_used = 102724\n",
      "Step 14: cost = 0.4037855142938185, shots_used = 137992\n",
      "Step 15: cost = 0.39805755324754444, shots_used = 177082\n",
      "Step 16: cost = 0.39626363445747925, shots_used = 224786\n",
      "Step 17: cost = 0.3936877621193865, shots_used = 278700\n",
      "Step 18: cost = 0.3899365130654129, shots_used = 345820\n",
      "Step 19: cost = 0.38798619595586226, shots_used = 428356\n"
     ]
    }
   ],
   "source": [
    "ansatz = qml.StronglyEntanglingLayers\n",
    "\n",
    "parameter_size: int = np.prod(ansatz.shape(layers, n)) + np.prod(ansatz.shape(layers, n + r))\n",
    "\n",
    "opt = Refoqus(nbqbits, dataset, vqec_hamiltonian_term, coefficients_cost, param_shape=(parameter_size,), function_cost_term_tosample=cost_function, min_shots=2, device_name=\"default.mixed\")\n",
    "params = random_angles(parameter_size)\n",
    "niter = 20\n",
    "\n",
    "cost_refoqus = [cost_analytic_alldataset(params, ansatz)]\n",
    "shots_refoqus = [0]\n",
    "\n",
    "for i in range(niter):\n",
    "    params = opt.step(params)\n",
    "    cost_refoqus.append(cost_analytic_alldataset(params, ansatz))\n",
    "    shots_refoqus.append(opt.shots_used)\n",
    "    print(f\"Step {i}: cost = {cost_refoqus[-1]}, shots_used = {shots_refoqus[-1]}\")"
   ]
  },
  {
   "cell_type": "code",
   "execution_count": null,
   "id": "ec187f46",
   "metadata": {},
   "outputs": [],
   "source": []
  }
 ],
 "metadata": {
  "kernelspec": {
   "display_name": "Python [conda env:hackenv]",
   "language": "python",
   "name": "conda-env-hackenv-py"
  },
  "language_info": {
   "codemirror_mode": {
    "name": "ipython",
    "version": 3
   },
   "file_extension": ".py",
   "mimetype": "text/x-python",
   "name": "python",
   "nbconvert_exporter": "python",
   "pygments_lexer": "ipython3",
   "version": "3.10.9"
  }
 },
 "nbformat": 4,
 "nbformat_minor": 5
}
