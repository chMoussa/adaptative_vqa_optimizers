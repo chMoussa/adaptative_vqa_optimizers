{
 "cells": [
  {
   "cell_type": "markdown",
   "id": "5ab00b00",
   "metadata": {},
   "source": [
    "# Example of usage of an adaptative optimizer\n",
    "\n",
    "## Variational Quantum State Eigensolver\n",
    "\n",
    "In this notebook, we will optimize a VQSE problem. Here, we are given a set of states $\\{\\rho_i\\}_{i=1}^N$ and we optimize the cost $L(\\vec{\\theta}) = \\sum_{i} p_{i} E_{i}(\\vec{\\theta})$ where $\\vec{\\theta}$ are parameters of a variational circuit, and $E_i = \\langle \\rho_i |H| \\rho_i \\rangle, H = \\mathbb{1} - r_j Z_j, r_j > 0$ .\n",
    "\n",
    "\n",
    "In our example, $\\{\\rho_i\\}_{i=1}^N$ will be taken from the collection of datasets available in Pennylane. We take several states obtained by running VQE for different bond lengths of the H2 molecule in the STO-3G basis. We obtain a dataset of 42 circuits as follows:"
   ]
  },
  {
   "cell_type": "code",
   "execution_count": 1,
   "id": "9840822a",
   "metadata": {},
   "outputs": [],
   "source": [
    "import pennylane as qml\n",
    "from pennylane import numpy as np\n",
    "from refoqus import Refoqus\n",
    "\n",
    "bondlengths = ['0.5', '0.54', '0.58', '0.62', '0.66', '0.7', '0.74', '0.742', '0.78', '0.82', '0.86', '0.9', '0.94', '0.98', '1.02', '1.06', '1.1', '1.14', '1.18', '1.22', '1.26', '1.3', '1.34', '1.38', '1.42', '1.46', '1.5', '1.54', '1.58', '1.62', '1.66', '1.7', '1.74', '1.78', '1.82', '1.86', '1.9', '1.94', '1.98', '2.02', '2.06', '2.1']\n",
    "moldataset = qml.data.load(\"qchem\", molname=\"H2\", basis=\"STO-3G\", bondlength=bondlengths)\n",
    "nbdatapoints = len(moldataset)"
   ]
  },
  {
   "cell_type": "markdown",
   "id": "a38ef5a1",
   "metadata": {},
   "source": [
    "Now we set the coefficients r_j, the hamiltonian terms and even define the hamiltonian of interest $- r_j Z_j$ (note $1$ is a constant to be added later)."
   ]
  },
  {
   "cell_type": "code",
   "execution_count": 2,
   "id": "9a855d60",
   "metadata": {},
   "outputs": [],
   "source": [
    "nbqbits = len(moldataset[0].hamiltonian.wires)\n",
    "coefficients_cost = -np.array(\n",
    "    [1.0 + (i - 1) * 0.2 for i in range(1, nbqbits + 1)]\n",
    ")\n",
    "coefficients_cost /= np.sum(coefficients_cost)\n",
    "\n",
    "vqse_hamiltonian_term = [qml.PauliZ(i) for i in range(nbqbits)]\n",
    "\n",
    "hamiltonian_of_interest = qml.Hamiltonian(coefficients_cost, vqse_hamiltonian_term)"
   ]
  },
  {
   "cell_type": "markdown",
   "id": "2ebfe464",
   "metadata": {},
   "source": [
    "Next, we define functions to evaluate the true cost during optimization."
   ]
  },
  {
   "cell_type": "code",
   "execution_count": 3,
   "id": "2c0864ea",
   "metadata": {},
   "outputs": [],
   "source": [
    "analytic_dev = qml.device(\"default.qubit\", wires=nbqbits, shots=None)\n",
    "\n",
    "@qml.qnode(analytic_dev)\n",
    "def cost_analytic_one_circuit(weights, index_datapoint):\n",
    "    \n",
    "    for op in moldataset[index_datapoint].vqe_gates:\n",
    "        qml.apply(op)\n",
    "        \n",
    "    StronglyEntanglingLayers(weights, wires=analytic_dev.wires)\n",
    "    return qml.expval(hamiltonian_of_interest)\n",
    "\n",
    "def cost_analytic_alldataset(weights):\n",
    "    \n",
    "    cost = 0.0\n",
    "    for m in range(nbdatapoints):\n",
    "        cost += cost_analytic_one_circuit(weights, m)\n",
    "    cost = 1.0 + cost / nbdatapoints\n",
    "    return cost"
   ]
  },
  {
   "cell_type": "markdown",
   "id": "18c1e86f",
   "metadata": {},
   "source": [
    "Now, the ansatz is defined as with StronglyEntanglingLayers. We also sample initial values and the corresponding cost."
   ]
  },
  {
   "cell_type": "code",
   "execution_count": 4,
   "id": "aa3358d5",
   "metadata": {},
   "outputs": [
    {
     "data": {
      "text/plain": [
       "tensor(0.98482822, requires_grad=True)"
      ]
     },
     "execution_count": 4,
     "metadata": {},
     "output_type": "execute_result"
    }
   ],
   "source": [
    "from pennylane.templates.layers import StronglyEntanglingLayers\n",
    "\n",
    "# hyperparameter of ansatz\n",
    "num_layers = 3\n",
    "\n",
    "\n",
    "param_shape = StronglyEntanglingLayers.shape(n_layers=num_layers, n_wires=nbqbits)\n",
    "init_params = np.random.uniform(low=0.0, high=2*np.pi, size=param_shape, requires_grad=True)\n",
    "cost_analytic_alldataset(init_params)"
   ]
  },
  {
   "cell_type": "markdown",
   "id": "ba1d361f",
   "metadata": {},
   "source": [
    "Our adaptative optimizer will be Refoqus where we provide the necessary arguments as follows and we perform niter iterations."
   ]
  },
  {
   "cell_type": "code",
   "execution_count": 5,
   "id": "8f0f0d37",
   "metadata": {},
   "outputs": [
    {
     "name": "stdout",
     "output_type": "stream",
     "text": [
      "Step 1: cost = 0.9709056240125621, shots_used = 144\n",
      "Step 2: cost = 0.7804110363191421, shots_used = 300\n",
      "Step 3: cost = 0.9155300804093289, shots_used = 458\n",
      "Step 4: cost = 0.8771370710123817, shots_used = 672\n",
      "Step 5: cost = 0.9714123802852086, shots_used = 996\n",
      "Step 6: cost = 0.9794475362538219, shots_used = 1378\n",
      "Step 7: cost = 0.8646404023219274, shots_used = 2038\n",
      "Step 8: cost = 0.8456458283524256, shots_used = 2692\n",
      "Step 9: cost = 0.7726445745890473, shots_used = 3980\n",
      "Step 10: cost = 0.7382449162654103, shots_used = 6592\n",
      "Step 11: cost = 0.7140499943672811, shots_used = 9552\n",
      "Step 12: cost = 0.6701793666462521, shots_used = 14340\n",
      "Step 13: cost = 0.6547507153095572, shots_used = 20746\n",
      "Step 14: cost = 0.6009479450964894, shots_used = 29092\n",
      "Step 15: cost = 0.5558364826580244, shots_used = 38462\n",
      "Step 16: cost = 0.5055831115070988, shots_used = 47394\n",
      "Step 17: cost = 0.48395101577610566, shots_used = 55888\n",
      "Step 18: cost = 0.5052986704925825, shots_used = 66022\n",
      "Step 19: cost = 0.6009683119667337, shots_used = 72614\n",
      "Step 20: cost = 0.667998541576333, shots_used = 76116\n"
     ]
    }
   ],
   "source": [
    "opt = Refoqus(nbqbits, [m.vqe_gates for m in moldataset], vqse_hamiltonian_term, coefficients_cost, param_shape, min_shots=2)\n",
    "params = init_params\n",
    "niter = 20\n",
    "\n",
    "cost_refoqus = [cost_analytic_alldataset(params)]\n",
    "shots_refoqus = [0]\n",
    "\n",
    "for i in range(niter):\n",
    "    params = opt.step(params)\n",
    "    cost_refoqus.append(cost_analytic_alldataset(params))\n",
    "    shots_refoqus.append(opt.shots_used)\n",
    "    print(f\"Step {i+1}: cost = {cost_refoqus[-1]}, shots_used = {shots_refoqus[-1]}\")"
   ]
  },
  {
   "cell_type": "code",
   "execution_count": null,
   "id": "ec187f46",
   "metadata": {},
   "outputs": [],
   "source": []
  }
 ],
 "metadata": {
  "kernelspec": {
   "display_name": "Python [conda env:hackenv]",
   "language": "python",
   "name": "conda-env-hackenv-py"
  },
  "language_info": {
   "codemirror_mode": {
    "name": "ipython",
    "version": 3
   },
   "file_extension": ".py",
   "mimetype": "text/x-python",
   "name": "python",
   "nbconvert_exporter": "python",
   "pygments_lexer": "ipython3",
   "version": "3.10.9"
  }
 },
 "nbformat": 4,
 "nbformat_minor": 5
}
