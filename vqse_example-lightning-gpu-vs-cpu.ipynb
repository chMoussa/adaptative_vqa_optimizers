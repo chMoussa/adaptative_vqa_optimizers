{
 "cells": [
  {
   "cell_type": "markdown",
   "id": "5ab00b00",
   "metadata": {},
   "source": [
    "# Example of timing benchmark of Refoqus on CPU and GPU\n",
    "\n",
    "We will retake the VQSE example again. But we will compare this time the runtimes on CPU and GPU as the average number of shots per second we do when running on each.\n",
    "\n",
    "## Variational Quantum State Eigensolver\n",
    "\n",
    "In this notebook, we will optimize a VQSE problem. Here, we are given a set of states $\\{\\rho_i\\}_{i=1}^N$ and we optimize the cost $L(\\vec{\\theta}) = \\sum_{i} p_{i} E_{i}(\\vec{\\theta})$ where $\\vec{\\theta}$ are parameters of a variational circuit, and $E_i = \\langle \\rho_i |H| \\rho_i \\rangle, H = \\mathbb{1} - r_j Z_j, r_j > 0$ .\n",
    "\n",
    "\n",
    "In our example, $\\{\\rho_i\\}_{i=1}^N$ will be taken from the collection of datasets available in Pennylane. We take several states obtained by running VQE for different bond lengths of the H2 molecule in the STO-3G basis. We obtain a dataset of 42 circuits as follows:"
   ]
  },
  {
   "cell_type": "code",
   "execution_count": 1,
   "id": "9840822a",
   "metadata": {},
   "outputs": [],
   "source": [
    "from time import time\n",
    "import pennylane as qml\n",
    "from pennylane import numpy as np\n",
    "from refoqus import Refoqus\n",
    "\n",
    "bondlengths = ['0.5', '0.54', '0.58', '0.62', '0.66', '0.7', '0.74', '0.742', '0.78', '0.82', '0.86', '0.9', '0.94', '0.98', '1.02', '1.06', '1.1', '1.14', '1.18', '1.22', '1.26', '1.3', '1.34', '1.38', '1.42', '1.46', '1.5', '1.54', '1.58', '1.62', '1.66', '1.7', '1.74', '1.78', '1.82', '1.86', '1.9', '1.94', '1.98', '2.02', '2.06', '2.1']\n",
    "moldataset = qml.data.load(\"qchem\", molname=\"H2\", basis=\"STO-3G\", bondlength=bondlengths)\n",
    "nbdatapoints = len(moldataset)"
   ]
  },
  {
   "cell_type": "markdown",
   "id": "a38ef5a1",
   "metadata": {},
   "source": [
    "Now we set the coefficients r_j, the hamiltonian terms and even define the hamiltonian of interest $- r_j Z_j$ (note $1$ is a constant to be added later)."
   ]
  },
  {
   "cell_type": "code",
   "execution_count": 2,
   "id": "9a855d60",
   "metadata": {},
   "outputs": [],
   "source": [
    "nbqbits = len(moldataset[0].hamiltonian.wires)\n",
    "coefficients_cost = -np.array(\n",
    "    [1.0 + (i - 1) * 0.2 for i in range(1, nbqbits + 1)]\n",
    ")\n",
    "coefficients_cost /= np.sum(coefficients_cost)\n",
    "\n",
    "vqse_hamiltonian_term = [qml.PauliZ(i) for i in range(nbqbits)]\n",
    "\n",
    "hamiltonian_of_interest = qml.Hamiltonian(coefficients_cost, vqse_hamiltonian_term)"
   ]
  },
  {
   "cell_type": "markdown",
   "id": "e8f07365",
   "metadata": {},
   "source": [
    "## CPU and GPU setting"
   ]
  },
  {
   "cell_type": "code",
   "execution_count": 3,
   "id": "cb5e92ab",
   "metadata": {},
   "outputs": [
    {
     "name": "stdout",
     "output_type": "stream",
     "text": [
      "\u001b[?25l\u001b[?7l\u001b[0m\u001b[31m\u001b[1m            .-/+oossssoo+\\-.\n",
      "        ´:+ssssssssssssssssss+:`\n",
      "      -+ssssssssssssssssssyyssss+-\n",
      "    .ossssssssssssssssss\u001b[37m\u001b[0m\u001b[1mdMMMNy\u001b[0m\u001b[31m\u001b[1msssso.\n",
      "   /sssssssssss\u001b[37m\u001b[0m\u001b[1mhdmmNNmmyNMMMMh\u001b[0m\u001b[31m\u001b[1mssssss\\\n",
      "  +sssssssss\u001b[37m\u001b[0m\u001b[1mhm\u001b[0m\u001b[31m\u001b[1myd\u001b[37m\u001b[0m\u001b[1mMMMMMMMNddddy\u001b[0m\u001b[31m\u001b[1mssssssss+\n",
      " /ssssssss\u001b[37m\u001b[0m\u001b[1mhNMMM\u001b[0m\u001b[31m\u001b[1myh\u001b[37m\u001b[0m\u001b[1mhyyyyhmNMMMNh\u001b[0m\u001b[31m\u001b[1mssssssss\\\n",
      ".ssssssss\u001b[37m\u001b[0m\u001b[1mdMMMNh\u001b[0m\u001b[31m\u001b[1mssssssssss\u001b[37m\u001b[0m\u001b[1mhNMMMd\u001b[0m\u001b[31m\u001b[1mssssssss.\n",
      "+ssss\u001b[37m\u001b[0m\u001b[1mhhhyNMMNy\u001b[0m\u001b[31m\u001b[1mssssssssssss\u001b[37m\u001b[0m\u001b[1myNMMMy\u001b[0m\u001b[31m\u001b[1msssssss+\n",
      "oss\u001b[37m\u001b[0m\u001b[1myNMMMNyMMh\u001b[0m\u001b[31m\u001b[1mssssssssssssss\u001b[37m\u001b[0m\u001b[1mhmmmh\u001b[0m\u001b[31m\u001b[1mssssssso\n",
      "oss\u001b[37m\u001b[0m\u001b[1myNMMMNyMMh\u001b[0m\u001b[31m\u001b[1msssssssssssssshmmmh\u001b[0m\u001b[31m\u001b[1mssssssso\n",
      "+ssss\u001b[37m\u001b[0m\u001b[1mhhhyNMMNy\u001b[0m\u001b[31m\u001b[1mssssssssssss\u001b[37m\u001b[0m\u001b[1myNMMMy\u001b[0m\u001b[31m\u001b[1msssssss+\n",
      ".ssssssss\u001b[37m\u001b[0m\u001b[1mdMMMNh\u001b[0m\u001b[31m\u001b[1mssssssssss\u001b[37m\u001b[0m\u001b[1mhNMMMd\u001b[0m\u001b[31m\u001b[1mssssssss.\n",
      " \\ssssssss\u001b[37m\u001b[0m\u001b[1mhNMMM\u001b[0m\u001b[31m\u001b[1myh\u001b[37m\u001b[0m\u001b[1mhyyyyhdNMMMNh\u001b[0m\u001b[31m\u001b[1mssssssss/\n",
      "  +sssssssss\u001b[37m\u001b[0m\u001b[1mdm\u001b[0m\u001b[31m\u001b[1myd\u001b[37m\u001b[0m\u001b[1mMMMMMMMMddddy\u001b[0m\u001b[31m\u001b[1mssssssss+\n",
      "   \\sssssssssss\u001b[37m\u001b[0m\u001b[1mhdmNNNNmyNMMMMh\u001b[0m\u001b[31m\u001b[1mssssss/\n",
      "    .ossssssssssssssssss\u001b[37m\u001b[0m\u001b[1mdMMMNy\u001b[0m\u001b[31m\u001b[1msssso.\n",
      "      -+sssssssssssssssss\u001b[37m\u001b[0m\u001b[1myyy\u001b[0m\u001b[31m\u001b[1mssss+-\n",
      "        `:+ssssssssssssssssss+:`\n",
      "            .-\\+oossssoo+/-.\u001b[0m\n",
      "\u001b[20A\u001b[9999999D\u001b[43C\u001b[0m\u001b[1m\u001b[31m\u001b[1mcharles\u001b[0m@\u001b[31m\u001b[1mcharles-Legion-5-15ITH6H\u001b[0m \n",
      "\u001b[43C\u001b[0m--------------------------------\u001b[0m \n",
      "\u001b[43C\u001b[0m\u001b[31m\u001b[1mOS\u001b[0m\u001b[0m:\u001b[0m Ubuntu 22.04.1 LTS x86_64\u001b[0m \n",
      "\u001b[43C\u001b[0m\u001b[31m\u001b[1mHost\u001b[0m\u001b[0m:\u001b[0m LENOVO LNVNB161216\u001b[0m \n",
      "\u001b[43C\u001b[0m\u001b[31m\u001b[1mKernel\u001b[0m\u001b[0m:\u001b[0m 5.19.0-32-generic\u001b[0m \n",
      "\u001b[43C\u001b[0m\u001b[31m\u001b[1mUptime\u001b[0m\u001b[0m:\u001b[0m 8 days, 5 hours, 26 mins\u001b[0m \n",
      "\u001b[43C\u001b[0m\u001b[31m\u001b[1mPackages\u001b[0m\u001b[0m:\u001b[0m 2508 (dpkg), 12 (snap)\u001b[0m \n",
      "\u001b[43C\u001b[0m\u001b[31m\u001b[1mShell\u001b[0m\u001b[0m:\u001b[0m bash 5.1.16\u001b[0m \n",
      "\u001b[43C\u001b[0m\u001b[31m\u001b[1mResolution\u001b[0m\u001b[0m:\u001b[0m 1920x1080\u001b[0m \n",
      "\u001b[43C\u001b[0m\u001b[31m\u001b[1mDE\u001b[0m\u001b[0m:\u001b[0m GNOME 42.5\u001b[0m \n",
      "\u001b[43C\u001b[0m\u001b[31m\u001b[1mWM\u001b[0m\u001b[0m:\u001b[0m Mutter\u001b[0m \n",
      "\u001b[43C\u001b[0m\u001b[31m\u001b[1mWM Theme\u001b[0m\u001b[0m:\u001b[0m Adwaita\u001b[0m \n",
      "\u001b[43C\u001b[0m\u001b[31m\u001b[1mTheme\u001b[0m\u001b[0m:\u001b[0m Yaru [GTK2/3]\u001b[0m \n",
      "\u001b[43C\u001b[0m\u001b[31m\u001b[1mIcons\u001b[0m\u001b[0m:\u001b[0m Yaru [GTK2/3]\u001b[0m \n",
      "\u001b[43C\u001b[0m\u001b[31m\u001b[1mTerminal\u001b[0m\u001b[0m:\u001b[0m jupyter-noteboo\u001b[0m \n",
      "\u001b[43C\u001b[0m\u001b[31m\u001b[1mCPU\u001b[0m\u001b[0m:\u001b[0m 11th Gen Intel i7-11800H (16) @ 4.600GHz\u001b[0m \n",
      "\u001b[43C\u001b[0m\u001b[31m\u001b[1mGPU\u001b[0m\u001b[0m:\u001b[0m NVIDIA GeForce RTX 3060 Mobile / Max-Q\u001b[0m \n",
      "\u001b[43C\u001b[0m\u001b[31m\u001b[1mGPU\u001b[0m\u001b[0m:\u001b[0m Intel TigerLake-H GT1 [UHD Graphics]\u001b[0m \n",
      "\u001b[43C\u001b[0m\u001b[31m\u001b[1mMemory\u001b[0m\u001b[0m:\u001b[0m 4795MiB / 15783MiB\u001b[0m \n",
      "\n",
      "\u001b[43C\u001b[30m\u001b[40m   \u001b[31m\u001b[41m   \u001b[32m\u001b[42m   \u001b[33m\u001b[43m   \u001b[34m\u001b[44m   \u001b[35m\u001b[45m   \u001b[36m\u001b[46m   \u001b[37m\u001b[47m   \u001b[m\n",
      "\u001b[43C\u001b[38;5;8m\u001b[48;5;8m   \u001b[38;5;9m\u001b[48;5;9m   \u001b[38;5;10m\u001b[48;5;10m   \u001b[38;5;11m\u001b[48;5;11m   \u001b[38;5;12m\u001b[48;5;12m   \u001b[38;5;13m\u001b[48;5;13m   \u001b[38;5;14m\u001b[48;5;14m   \u001b[38;5;15m\u001b[48;5;15m   \u001b[m\n",
      "\n",
      "\u001b[?25h\u001b[?7h"
     ]
    }
   ],
   "source": [
    "! neofetch"
   ]
  },
  {
   "cell_type": "markdown",
   "id": "2ebfe464",
   "metadata": {},
   "source": [
    "Next, we define functions to evaluate the true cost during optimization. Here we will write the functions for running on cpu and gpu."
   ]
  },
  {
   "cell_type": "code",
   "execution_count": 4,
   "id": "2c0864ea",
   "metadata": {},
   "outputs": [],
   "source": [
    "analytic_dev_cpu = qml.device(\"lightning.qubit\", wires=nbqbits, shots=None)\n",
    "analytic_dev_gpu = qml.device(\"lightning.gpu\", wires=nbqbits, shots=None)\n",
    "\n",
    "@qml.qnode(analytic_dev_cpu)\n",
    "def cost_analytic_one_circuit(weights, index_datapoint):\n",
    "    \n",
    "    for op in moldataset[index_datapoint].vqe_gates:\n",
    "        qml.apply(op)\n",
    "        \n",
    "    StronglyEntanglingLayers(weights, wires=analytic_dev_cpu.wires)\n",
    "    return qml.expval(hamiltonian_of_interest)\n",
    "\n",
    "def cost_analytic_alldataset(weights):\n",
    "    \n",
    "    cost = 0.0\n",
    "    for m in range(nbdatapoints):\n",
    "        cost += cost_analytic_one_circuit(weights, m)\n",
    "    cost = 1.0 + cost / nbdatapoints\n",
    "    return cost\n",
    "\n",
    "@qml.qnode(analytic_dev_gpu)\n",
    "def cost_analytic_one_circuit_gpu(weights, index_datapoint):\n",
    "    \n",
    "    for op in moldataset[index_datapoint].vqe_gates:\n",
    "        qml.apply(op)\n",
    "        \n",
    "    StronglyEntanglingLayers(weights, wires=analytic_dev_gpu.wires)\n",
    "    return qml.expval(hamiltonian_of_interest)\n",
    "\n",
    "def cost_analytic_alldataset(weights):\n",
    "    \n",
    "    cost = 0.0\n",
    "    for m in range(nbdatapoints):\n",
    "        cost += cost_analytic_one_circuit_gpu(weights, m)\n",
    "    cost = 1.0 + cost / nbdatapoints\n",
    "    return cost"
   ]
  },
  {
   "cell_type": "markdown",
   "id": "18c1e86f",
   "metadata": {},
   "source": [
    "Now, the ansatz is defined as with StronglyEntanglingLayers. We also sample initial values and the corresponding cost."
   ]
  },
  {
   "cell_type": "code",
   "execution_count": 5,
   "id": "aa3358d5",
   "metadata": {},
   "outputs": [
    {
     "data": {
      "text/plain": [
       "tensor(1.13628269, requires_grad=True)"
      ]
     },
     "execution_count": 5,
     "metadata": {},
     "output_type": "execute_result"
    }
   ],
   "source": [
    "from pennylane.templates.layers import StronglyEntanglingLayers\n",
    "\n",
    "# hyperparameter of ansatz\n",
    "num_layers = 3\n",
    "\n",
    "\n",
    "param_shape = StronglyEntanglingLayers.shape(n_layers=num_layers, n_wires=nbqbits)\n",
    "np.random.seed(10)\n",
    "init_params = np.random.uniform(low=0.0, high=2*np.pi, size=param_shape, requires_grad=True)\n",
    "cost_analytic_alldataset(init_params)"
   ]
  },
  {
   "cell_type": "markdown",
   "id": "ba1d361f",
   "metadata": {},
   "source": [
    "Our adaptative optimizer will be Refoqus where we provide the necessary arguments as follows and we perform niter iterations."
   ]
  },
  {
   "cell_type": "markdown",
   "id": "352fcde1",
   "metadata": {},
   "source": [
    "## CPU benchmark\n",
    "\n",
    "We do 10 Refoqus runs on CPU and GPU, save the number of total shots and the runtimes."
   ]
  },
  {
   "cell_type": "code",
   "execution_count": 6,
   "id": "b9c82b7a",
   "metadata": {},
   "outputs": [
    {
     "name": "stdout",
     "output_type": "stream",
     "text": [
      "176.74725651741028\n",
      "222.86281490325928\n",
      "79.41039514541626\n",
      "105.3722755908966\n",
      "186.56707239151\n",
      "217.61472034454346\n",
      "84.12965512275696\n",
      "132.66889429092407\n",
      "228.71543741226196\n",
      "173.60100674629211\n"
     ]
    }
   ],
   "source": [
    "res_cpu = []\n",
    "restime_cpu = []\n",
    "nbruns = 10\n",
    "niter = 20\n",
    "\n",
    "for _ in range(nbruns):\n",
    "    opt = Refoqus(nbqbits, [m.vqe_gates for m in moldataset], vqse_hamiltonian_term, coefficients_cost, param_shape, min_shots=2, device_name=\"lightning.qubit\")\n",
    "    params = init_params\n",
    "    \n",
    "    starttime = time()\n",
    "    cost_refoqus = [cost_analytic_alldataset(params)]\n",
    "    shots_refoqus = [0]\n",
    "\n",
    "    for i in range(niter):\n",
    "        params = opt.step(params)\n",
    "        cost_refoqus.append(cost_analytic_alldataset(params))\n",
    "        shots_refoqus.append(opt.shots_used)\n",
    "    restime_cpu.append(time()-starttime)\n",
    "    res_cpu.append([cost_refoqus.copy(), shots_refoqus.copy()])\n",
    "    print(restime_cpu[-1])\n",
    "    \n",
    "average_cpu = np.sum([res_cpu[j][1][-1] / restime_cpu[j] for j in range(nbruns)]) / nbruns"
   ]
  },
  {
   "cell_type": "code",
   "execution_count": 7,
   "id": "1f91b960",
   "metadata": {},
   "outputs": [
    {
     "name": "stdout",
     "output_type": "stream",
     "text": [
      "285.66036677360535\n",
      "221.94530153274536\n",
      "176.87832975387573\n",
      "212.0471911430359\n",
      "222.54807949066162\n",
      "69.64625930786133\n",
      "256.0793368816376\n",
      "299.05737113952637\n",
      "62.0515558719635\n",
      "208.52359890937805\n"
     ]
    }
   ],
   "source": [
    "res_gpu = []\n",
    "restime_gpu = []\n",
    "\n",
    "for _ in range(nbruns):\n",
    "    opt = Refoqus(nbqbits, [m.vqe_gates for m in moldataset], vqse_hamiltonian_term, coefficients_cost, param_shape, min_shots=2, device_name=\"lightning.gpu\")\n",
    "    params = init_params\n",
    "\n",
    "    starttime = time()\n",
    "    cost_refoqus = [cost_analytic_alldataset(params)]\n",
    "    shots_refoqus = [0]\n",
    "\n",
    "    for i in range(niter):\n",
    "        params = opt.step(params)\n",
    "        cost_refoqus.append(cost_analytic_alldataset(params))\n",
    "        shots_refoqus.append(opt.shots_used)\n",
    "    restime_gpu.append(time()-starttime)\n",
    "    res_gpu.append([cost_refoqus.copy(), shots_refoqus.copy()])\n",
    "    print(restime_gpu[-1])\n",
    "    \n",
    "average_gpu = np.sum([res_gpu[j][1][-1] / restime_gpu[j] for j in range(nbruns)]) / nbruns"
   ]
  },
  {
   "cell_type": "markdown",
   "id": "c39232fc",
   "metadata": {},
   "source": [
    "### How many times more shots can we do with GPU?"
   ]
  },
  {
   "cell_type": "code",
   "execution_count": 8,
   "id": "ec187f46",
   "metadata": {},
   "outputs": [
    {
     "data": {
      "text/plain": [
       "(1568.135722051434, 1128.5434782479174, 1.3895217617011892)"
      ]
     },
     "execution_count": 8,
     "metadata": {},
     "output_type": "execute_result"
    }
   ],
   "source": [
    "average_gpu, average_cpu, average_gpu / average_cpu"
   ]
  },
  {
   "cell_type": "code",
   "execution_count": null,
   "id": "dd1ae572",
   "metadata": {},
   "outputs": [],
   "source": []
  },
  {
   "cell_type": "code",
   "execution_count": null,
   "id": "c6459e20",
   "metadata": {},
   "outputs": [],
   "source": []
  }
 ],
 "metadata": {
  "kernelspec": {
   "display_name": "Python [conda env:hackenv]",
   "language": "python",
   "name": "conda-env-hackenv-py"
  },
  "language_info": {
   "codemirror_mode": {
    "name": "ipython",
    "version": 3
   },
   "file_extension": ".py",
   "mimetype": "text/x-python",
   "name": "python",
   "nbconvert_exporter": "python",
   "pygments_lexer": "ipython3",
   "version": "3.10.9"
  }
 },
 "nbformat": 4,
 "nbformat_minor": 5
}
